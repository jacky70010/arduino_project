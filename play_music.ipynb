{
 "cells": [
  {
   "cell_type": "code",
   "execution_count": 19,
   "metadata": {},
   "outputs": [
    {
     "name": "stdout",
     "output_type": "stream",
     "text": [
      "play it \n"
     ]
    }
   ],
   "source": [
    "#if didn't have pygame module\n",
    "# pip install -i https://pypi.tuna.tsinghua.edu.cn/simple pygame\n",
    "import pygame\n",
    "\n",
    "pygame.mixer.init() \n",
    "print(\"play it \")\n",
    "track = pygame.mixer.music.load(\"The Chainsmokers - Roses ft. ROZES (Lyric Video)-mBZdHuZCfic.mp3\")\n",
    "#movie = pygame.movie.Movie('roses.mp3')\n",
    "pygame.mixer.music.play()\n",
    "\n",
    "#pygame.mixer.music.play(loops=0, start=0.0) \n",
    "#pygame.mixer.music.stop() \n",
    "#pygame.mixer.music.pause()  \n",
    "#pygame.mixer.music.unpause() \n"
   ]
  },
  {
   "cell_type": "code",
   "execution_count": 40,
   "metadata": {},
   "outputs": [
    {
     "name": "stdout",
     "output_type": "stream",
     "text": [
      "<Stream: itag=\"171\" mime_type=\"audio/webm\" abr=\"128kbps\" acodec=\"vorbis\">\n",
      "done\n"
     ]
    }
   ],
   "source": [
    "#download youtube video\n",
    "from pytube import YouTube\n",
    "link = 'https://www.youtube.com/watch?v=0VD9x50vh8o&list=PLvN8gA0i3jVtTiK1Z5YGmGNlz9tP-WxKE&index=36'\n",
    "yt = YouTube(link)\n",
    "yt.title\n",
    "audios=yt.streams.filter(only_audio=True).all()\n",
    "stream= audios[0]\n",
    "print(audios[0])\n",
    "stream.download()\n",
    "print(\"done\")"
   ]
  },
  {
   "cell_type": "code",
   "execution_count": 18,
   "metadata": {},
   "outputs": [
    {
     "name": "stdout",
     "output_type": "stream",
     "text": [
      "[youtube] mBZdHuZCfic: Downloading webpage\n",
      "[youtube] mBZdHuZCfic: Downloading video info webpage\n",
      "[youtube] mBZdHuZCfic: Downloading js player vflisCO7O\n",
      "[download] Destination: The Chainsmokers - Roses ft. ROZES (Lyric Video)-mBZdHuZCfic.webm\n",
      "[download] 100% of 3.64MiB in 00:0007MiB/s ETA 00:006\n",
      "[ffmpeg] Destination: The Chainsmokers - Roses ft. ROZES (Lyric Video)-mBZdHuZCfic.mp3\n",
      "Deleting original file The Chainsmokers - Roses ft. ROZES (Lyric Video)-mBZdHuZCfic.webm (pass -k to keep)\n"
     ]
    }
   ],
   "source": [
    "#download youtube audio\n",
    "from __future__ import unicode_literals\n",
    "import youtube_dl\n",
    "ydl_opts = {\n",
    "    'format': 'bestaudio/best',\n",
    "    'postprocessors': [{\n",
    "        'key': 'FFmpegExtractAudio',\n",
    "        'preferredcodec': 'mp3',\n",
    "        'preferredquality': '192',\n",
    "    }],\n",
    "}\n",
    "with youtube_dl.YoutubeDL(ydl_opts) as ydl:\n",
    "    ydl.download(['https://www.youtube.com/watch?v=mBZdHuZCfic'])"
   ]
  },
  {
   "cell_type": "code",
   "execution_count": null,
   "metadata": {},
   "outputs": [],
   "source": []
  },
  {
   "cell_type": "code",
   "execution_count": null,
   "metadata": {},
   "outputs": [],
   "source": []
  }
 ],
 "metadata": {
  "kernelspec": {
   "display_name": "Python 3",
   "language": "python",
   "name": "python3"
  },
  "language_info": {
   "codemirror_mode": {
    "name": "ipython",
    "version": 3
   },
   "file_extension": ".py",
   "mimetype": "text/x-python",
   "name": "python",
   "nbconvert_exporter": "python",
   "pygments_lexer": "ipython3",
   "version": "3.7.1"
  }
 },
 "nbformat": 4,
 "nbformat_minor": 2
}
