{
 "cells": [
  {
   "cell_type": "code",
   "execution_count": 44,
   "metadata": {},
   "outputs": [
    {
     "name": "stdout",
     "output_type": "stream",
     "text": [
      "play it \n"
     ]
    },
    {
     "name": "stderr",
     "output_type": "stream",
     "text": [
      "/home/jacky/anaconda3/lib/python3.7/site-packages/ipykernel_launcher.py:8: RuntimeWarning: use movie: No module named 'pygame.movie'\n",
      "(ModuleNotFoundError: No module named 'pygame.movie')\n",
      "  \n"
     ]
    },
    {
     "ename": "NotImplementedError",
     "evalue": "movie module not available (ModuleNotFoundError: No module named 'pygame.movie')",
     "output_type": "error",
     "traceback": [
      "\u001b[0;31m---------------------------------------------------------------------------\u001b[0m",
      "\u001b[0;31mNotImplementedError\u001b[0m                       Traceback (most recent call last)",
      "\u001b[0;32m<ipython-input-44-2534a0652511>\u001b[0m in \u001b[0;36m<module>\u001b[0;34m\u001b[0m\n\u001b[1;32m      6\u001b[0m \u001b[0mprint\u001b[0m\u001b[0;34m(\u001b[0m\u001b[0;34m\"play it \"\u001b[0m\u001b[0;34m)\u001b[0m\u001b[0;34m\u001b[0m\u001b[0;34m\u001b[0m\u001b[0m\n\u001b[1;32m      7\u001b[0m \u001b[0;31m#track = pygame.mixer.music.load(\"The Chainsmokers - Roses ft ROZES (Lyric Video).mp4\")\u001b[0m\u001b[0;34m\u001b[0m\u001b[0;34m\u001b[0m\u001b[0;34m\u001b[0m\u001b[0m\n\u001b[0;32m----> 8\u001b[0;31m \u001b[0mmovie\u001b[0m \u001b[0;34m=\u001b[0m \u001b[0mpygame\u001b[0m\u001b[0;34m.\u001b[0m\u001b[0mmovie\u001b[0m\u001b[0;34m.\u001b[0m\u001b[0mMovie\u001b[0m\u001b[0;34m(\u001b[0m\u001b[0;34m'The Chainsmokers - Roses ft ROZES (Lyric Video).mp4'\u001b[0m\u001b[0;34m)\u001b[0m\u001b[0;34m\u001b[0m\u001b[0;34m\u001b[0m\u001b[0m\n\u001b[0m\u001b[1;32m      9\u001b[0m \u001b[0;31m#pygame.mixer.music.play()\u001b[0m\u001b[0;34m\u001b[0m\u001b[0;34m\u001b[0m\u001b[0;34m\u001b[0m\u001b[0m\n\u001b[1;32m     10\u001b[0m \u001b[0;34m\u001b[0m\u001b[0m\n",
      "\u001b[0;32m~/anaconda3/lib/python3.7/site-packages/pygame/__init__.py\u001b[0m in \u001b[0;36m__getattr__\u001b[0;34m(self, var)\u001b[0m\n\u001b[1;32m     98\u001b[0m             \u001b[0mself\u001b[0m\u001b[0;34m.\u001b[0m\u001b[0murgent\u001b[0m \u001b[0;34m=\u001b[0m \u001b[0;36m1\u001b[0m\u001b[0;34m\u001b[0m\u001b[0;34m\u001b[0m\u001b[0m\n\u001b[1;32m     99\u001b[0m         \u001b[0mmissing_msg\u001b[0m \u001b[0;34m=\u001b[0m \u001b[0;34m\"%s module not available (%s)\"\u001b[0m \u001b[0;34m%\u001b[0m \u001b[0;34m(\u001b[0m\u001b[0mself\u001b[0m\u001b[0;34m.\u001b[0m\u001b[0mname\u001b[0m\u001b[0;34m,\u001b[0m \u001b[0mself\u001b[0m\u001b[0;34m.\u001b[0m\u001b[0mreason\u001b[0m\u001b[0;34m)\u001b[0m\u001b[0;34m\u001b[0m\u001b[0;34m\u001b[0m\u001b[0m\n\u001b[0;32m--> 100\u001b[0;31m         \u001b[0;32mraise\u001b[0m \u001b[0mNotImplementedError\u001b[0m\u001b[0;34m(\u001b[0m\u001b[0mmissing_msg\u001b[0m\u001b[0;34m)\u001b[0m\u001b[0;34m\u001b[0m\u001b[0;34m\u001b[0m\u001b[0m\n\u001b[0m\u001b[1;32m    101\u001b[0m \u001b[0;34m\u001b[0m\u001b[0m\n\u001b[1;32m    102\u001b[0m     \u001b[0;32mdef\u001b[0m \u001b[0m__nonzero__\u001b[0m\u001b[0;34m(\u001b[0m\u001b[0mself\u001b[0m\u001b[0;34m)\u001b[0m\u001b[0;34m:\u001b[0m\u001b[0;34m\u001b[0m\u001b[0;34m\u001b[0m\u001b[0m\n",
      "\u001b[0;31mNotImplementedError\u001b[0m: movie module not available (ModuleNotFoundError: No module named 'pygame.movie')"
     ]
    }
   ],
   "source": [
    "#if didn't have pygame module\n",
    "# pip install -i https://pypi.tuna.tsinghua.edu.cn/simple pygame\n",
    "import pygame\n",
    "\n",
    "pygame.mixer.init() \n",
    "print(\"play it \")\n",
    "#track = pygame.mixer.music.load(\"The Chainsmokers - Roses ft ROZES (Lyric Video).mp4\")\n",
    "movie = pygame.movie.Movie('The Chainsmokers - Roses ft ROZES (Lyric Video).mp4')\n",
    "#pygame.mixer.music.play()\n",
    "\n",
    "#pygame.mixer.music.play(loops=0, start=0.0) \n",
    "#pygame.mixer.music.stop() \n",
    "#pygame.mixer.music.pause()  \n",
    "#pygame.mixer.music.unpause() \n"
   ]
  },
  {
   "cell_type": "code",
   "execution_count": 40,
   "metadata": {},
   "outputs": [
    {
     "name": "stdout",
     "output_type": "stream",
     "text": [
      "<Stream: itag=\"171\" mime_type=\"audio/webm\" abr=\"128kbps\" acodec=\"vorbis\">\n",
      "done\n"
     ]
    }
   ],
   "source": [
    "#download youtube video\n",
    "from pytube import YouTube\n",
    "link = 'https://www.youtube.com/watch?v=0VD9x50vh8o&list=PLvN8gA0i3jVtTiK1Z5YGmGNlz9tP-WxKE&index=36'\n",
    "yt = YouTube(link)\n",
    "yt.title\n",
    "audios=yt.streams.filter(only_audio=True).all()\n",
    "stream= audios[0]\n",
    "print(audios[0])\n",
    "stream.download()\n",
    "print(\"done\")"
   ]
  },
  {
   "cell_type": "code",
   "execution_count": null,
   "metadata": {},
   "outputs": [],
   "source": []
  }
 ],
 "metadata": {
  "kernelspec": {
   "display_name": "Python 3",
   "language": "python",
   "name": "python3"
  },
  "language_info": {
   "codemirror_mode": {
    "name": "ipython",
    "version": 3
   },
   "file_extension": ".py",
   "mimetype": "text/x-python",
   "name": "python",
   "nbconvert_exporter": "python",
   "pygments_lexer": "ipython3",
   "version": "3.7.1"
  }
 },
 "nbformat": 4,
 "nbformat_minor": 2
}
