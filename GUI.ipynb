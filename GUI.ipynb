{
 "cells": [
  {
   "cell_type": "code",
   "execution_count": 1,
   "metadata": {},
   "outputs": [
    {
     "name": "stdout",
     "output_type": "stream",
     "text": [
      "monkey\n",
      "hit\n",
      "monkey\n",
      "monkey\n",
      "monkey\n",
      "hit\n",
      "hit\n",
      "hit\n",
      "hit\n"
     ]
    }
   ],
   "source": [
    "#conda install tk \n",
    "#pip install pillow\n",
    "\n",
    "import tkinter as tk\n",
    "from functools import partial\n",
    "#window initialization\n",
    "window = tk.Tk()\n",
    "window.title('my window')\n",
    "window.geometry('1000x500')\n",
    "\n",
    "var = tk.StringVar()\n",
    "l = tk.Label(window, textvariable=var, bg='green', font=('Arial', 12), width=15,\n",
    "             height=2)\n",
    "#l = tk.Label(window, text='OMG! this is TK!', bg='green', font=('Arial', 12), width=15, height=2)\n",
    "l.pack()\n",
    "\n",
    "on_hit = False\n",
    "def press(a):\n",
    "    global on_hit\n",
    "    if on_hit == False:\n",
    "        on_hit = True\n",
    "        print(a)\n",
    "        var.set(a)\n",
    "    else:\n",
    "        on_hit = False\n",
    "        var.set('')\n",
    "\n",
    "b = tk.Button(window, text='hit me', width=15, height=2, command=partial(press, 'hit'))\n",
    "#b.pack()\n",
    "b.place(x=900, y=100)\n",
    "\n",
    "\n",
    "\n",
    "button_img_gif = tk.PhotoImage(file = 'giphy.gif')\n",
    "button_img = tk.Button(window, image = button_img_gif, text = '11', width=150, height=200, command=partial(press, 'monkey'))\n",
    "button_img.place(x=0, y=0)\n",
    "\n",
    "\n",
    "\n",
    "window.mainloop()\n"
   ]
  },
  {
   "cell_type": "code",
   "execution_count": null,
   "metadata": {},
   "outputs": [],
   "source": []
  },
  {
   "cell_type": "code",
   "execution_count": null,
   "metadata": {},
   "outputs": [],
   "source": []
  }
 ],
 "metadata": {
  "kernelspec": {
   "display_name": "Python 3",
   "language": "python",
   "name": "python3"
  },
  "language_info": {
   "codemirror_mode": {
    "name": "ipython",
    "version": 3
   },
   "file_extension": ".py",
   "mimetype": "text/x-python",
   "name": "python",
   "nbconvert_exporter": "python",
   "pygments_lexer": "ipython3",
   "version": "3.5.6"
  }
 },
 "nbformat": 4,
 "nbformat_minor": 2
}
